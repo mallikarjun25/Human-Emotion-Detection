{
 "cells": [
  {
   "cell_type": "markdown",
   "id": "a153699b-9ee8-46c6-b8c8-3c0f7cf3f092",
   "metadata": {},
   "source": [
    "#### Instructions:  \n",
    "1. Libraries allowed: **Python basic libraries, numpy, pandas, scikit-learn (only for data processing), pytorch, and ClearML.**\n",
    "2. Show all outputs.\n",
    "3. Submit jupyter notebook and a pdf export of the notebook. Check canvas for detail instructions for the report. \n",
    "4. Below are the questions/steps that you need to answer. Add as many cells as needed. "
   ]
  },
  {
   "cell_type": "code",
   "execution_count": 1,
   "id": "46e0e887",
   "metadata": {},
   "outputs": [],
   "source": [
    "import os\n",
    "import shutil\n",
    "import torch\n",
    "from torchvision import datasets, transforms, utils\n",
    "from torch.utils.data import DataLoader, random_split,Subset\n",
    "import torch.nn as nn\n",
    "import torch.optim as optim\n",
    "import matplotlib.pyplot as plt\n",
    "import numpy as np\n",
    "from sklearn.model_selection import train_test_split"
   ]
  },
  {
   "cell_type": "markdown",
   "id": "89bbf8fe-c35d-443d-b10c-4df01f3d99f4",
   "metadata": {},
   "source": [
    "## Step 1: Data Processing\n",
    "1. Partition your dataset into training and test if they are not already. You can do it manually by creating separate folders for training and test.\n",
    "2. Estimate mean and variance from the training data for normalization.\n",
    "3. Create \"transforms\" for training and test for normalization and data augmentation. \n",
    "4. Create custom dataset or instantiate built-in \"ImageFolder\" with the transforms for both training and test.\n",
    "5. Partition the training dataset further into training and validation\n",
    "6. Use dataloder to partition and generate minibatches.\n",
    "7. Visualize input and output for two sample images."
   ]
  },
  {
   "cell_type": "markdown",
   "id": "700bbd94",
   "metadata": {},
   "source": [
    "#### 1.Partition your dataset into training and test if they are not already. You can do it manually by creating separate folders for training and test.\n",
    "#### Answer- Done manually by creating separate folders for training and test."
   ]
  },
  {
   "cell_type": "markdown",
   "id": "47099c4e",
   "metadata": {},
   "source": [
    "#### 2.Estimate mean and variance from the training data for normalization."
   ]
  },
  {
   "cell_type": "code",
   "execution_count": 2,
   "id": "dfbc23d1",
   "metadata": {},
   "outputs": [
    {
     "name": "stdout",
     "output_type": "stream",
     "text": [
      "Mean: tensor([0.5077, 0.5077, 0.5077]), Std: tensor([0.2119, 0.2119, 0.2119])\n"
     ]
    }
   ],
   "source": [
    "#Answer\n",
    "temp_transform = transforms.Compose([transforms.ToTensor()])\n",
    "\n",
    "train_dataset = datasets.ImageFolder('train', transform=temp_transform)\n",
    "train_loader = DataLoader(train_dataset, batch_size=64, shuffle=True)\n",
    "\n",
    "mean = 0.0\n",
    "std = 0.0\n",
    "total_samples = 0\n",
    "\n",
    "for images, _ in train_loader:\n",
    "    batch_samples = images.size(0)  # Batch size (number of images)\n",
    "    images = images.view(batch_samples, images.size(1), -1)  # Flatten height/width\n",
    "    mean += images.mean(2).sum(0)  # Sum mean of all pixels in channels\n",
    "    std += images.std(2).sum(0)    # Sum std deviation of all pixels in channels\n",
    "    total_samples += batch_samples\n",
    "\n",
    "mean /= total_samples\n",
    "std /= total_samples\n",
    "\n",
    "print(f\"Mean: {mean}, Std: {std}\")"
   ]
  },
  {
   "cell_type": "markdown",
   "id": "c72d02a0",
   "metadata": {},
   "source": [
    "#### 3.Create \"transforms\" for training and test for normalization and data augmentation."
   ]
  },
  {
   "cell_type": "code",
   "execution_count": 3,
   "id": "58c075e5",
   "metadata": {},
   "outputs": [],
   "source": [
    "#Answer\n",
    "transform_train = transforms.Compose([\n",
    "    transforms.Grayscale(num_output_channels=1),\n",
    "    transforms.Resize((48, 48)),\n",
    "    transforms.RandomRotation(10),        \n",
    "    transforms.RandomHorizontalFlip(),      \n",
    "    transforms.ToTensor(),\n",
    "    transforms.Normalize((0.5,), (0.5,))   \n",
    "])\n",
    "\n",
    "transform_test = transforms.Compose([\n",
    "    transforms.Grayscale(num_output_channels=1),\n",
    "    transforms.Resize((48, 48)),\n",
    "    transforms.ToTensor(),\n",
    "    transforms.Normalize((0.5,), (0.5,))\n",
    "])\n"
   ]
  },
  {
   "cell_type": "markdown",
   "id": "fdd6fa12",
   "metadata": {},
   "source": [
    "#### 4.Create custom dataset or instantiate built-in \"ImageFolder\" with the transforms for both training and test."
   ]
  },
  {
   "cell_type": "code",
   "execution_count": 4,
   "id": "74c5ecb5",
   "metadata": {},
   "outputs": [],
   "source": [
    "#Answer\n",
    "train_dataset = datasets.ImageFolder('train', transform=transform_train)\n",
    "test_dataset = datasets.ImageFolder('test', transform=transform_test)"
   ]
  },
  {
   "cell_type": "markdown",
   "id": "619e4543",
   "metadata": {},
   "source": [
    "#### 5.Partition the training dataset further into training and validation "
   ]
  },
  {
   "cell_type": "code",
   "execution_count": 5,
   "id": "82c8339f",
   "metadata": {},
   "outputs": [],
   "source": [
    "#Answer\n",
    "train_size = int(0.8 * len(train_dataset))\n",
    "val_size = len(train_dataset) - train_size\n",
    "train_subset, val_subset = random_split(train_dataset, [train_size, val_size])"
   ]
  },
  {
   "cell_type": "markdown",
   "id": "99c76086",
   "metadata": {},
   "source": [
    "#### 6.Use dataloder to partition and generate minibatches."
   ]
  },
  {
   "cell_type": "code",
   "execution_count": 6,
   "id": "930508b7",
   "metadata": {},
   "outputs": [],
   "source": [
    "#Answer\n",
    "train_loader = DataLoader(train_subset, batch_size=128, shuffle=True)\n",
    "val_loader = DataLoader(val_subset, batch_size=128, shuffle=False)\n",
    "test_loader = DataLoader(test_dataset, batch_size=128, shuffle=False)"
   ]
  },
  {
   "cell_type": "markdown",
   "id": "3d5e983b",
   "metadata": {},
   "source": [
    "#### 7.Visualize input and output for two sample images."
   ]
  },
  {
   "cell_type": "code",
   "execution_count": 7,
   "id": "0c14da89",
   "metadata": {},
   "outputs": [
    {
     "data": {
      "image/png": "[encoded data removed]",
      "text/plain": [
       "<Figure size 640x480 with 1 Axes>"
      ]
     },
     "metadata": {},
     "output_type": "display_data"
    },
    {
     "data": {
      "image/png": "[encoded data removed]",
      "text/plain": [
       "<Figure size 640x480 with 1 Axes>"
      ]
     },
     "metadata": {},
     "output_type": "display_data"
    }
   ],
   "source": [
    "#Answer\n",
    "def imshow(img, title):\n",
    "    img = img * std.view(3, 1, 1) + mean.view(3, 1, 1)  # Unnormalize\n",
    "    np_img = img.numpy()\n",
    "    plt.imshow(np.transpose(np_img, (1, 2, 0)))  # Convert from CxHxW to HxWxC\n",
    "    plt.title(title)\n",
    "    plt.show()\n",
    "\n",
    "# Get two sample images\n",
    "dataiter = iter(train_loader)\n",
    "images, labels = next(dataiter)\n",
    "\n",
    "# Visualize the first two images\n",
    "for i in range(2):\n",
    "    imshow(images[i], title=train_dataset.classes[labels[i]])"
   ]
  },
  {
   "cell_type": "markdown",
   "id": "41a11286-01d8-467e-9b39-7c8c95ae90b4",
   "metadata": {},
   "source": [
    "## Step 2: initial network\n",
    "1. Create a convolutional neural network. Make the hyper-parameters that you want to tune (e.g., number of layers) dynamic so that you can change them without altering the code. You can choose additional hyperparameters but the followings must be considered.\n",
    "   1. Number of filters\n",
    "   2. Number of layers\n",
    "   3. learning rate\n",
    "   4. Optimization algorithm specific hyper-paramters, e.g., momentum, for SGD.\n",
    "   5. weight decay. \n",
    "3. Select two images. Pick a configuation of NN and hyperparamters and train to overfit the samples, i.e., the accuracy will be 100%. If the network does not overfit, try differnt hyperparamter configuration, e.g., number of paramters, learning rate."
   ]
  },
  {
   "cell_type": "code",
   "execution_count": 8,
   "id": "aa98d89f",
   "metadata": {},
   "outputs": [
    {
     "name": "stdout",
     "output_type": "stream",
     "text": [
      "Epoch [1/10], Loss: 1.8769\n",
      "Epoch [2/10], Loss: 1.8111\n",
      "Epoch [3/10], Loss: 1.7957\n",
      "Epoch [4/10], Loss: 1.7790\n",
      "Epoch [5/10], Loss: 1.7687\n",
      "Epoch [6/10], Loss: 1.7538\n",
      "Epoch [7/10], Loss: 1.7401\n",
      "Epoch [8/10], Loss: 1.7289\n",
      "Epoch [9/10], Loss: 1.7146\n",
      "Epoch [10/10], Loss: 1.7044\n",
      "Validation Loss: 1.6915, Accuracy: 33.56%\n"
     ]
    }
   ],
   "source": [
    "import torch\n",
    "import torch.nn as nn\n",
    "import torch.nn.functional as F\n",
    "from torch.optim import SGD, Adam\n",
    "from torch.utils.data import DataLoader\n",
    "\n",
    "# Define the CNN class\n",
    "class DynamicCNN(nn.Module):\n",
    "    def __init__(self, num_classes=7, num_layers=3, filters=[32, 64, 128], kernel_size=3):\n",
    "        super(DynamicCNN, self).__init__()\n",
    "        self.layers = nn.ModuleList()\n",
    "        in_channels = 1  # Grayscale input\n",
    "        \n",
    "        for i in range(num_layers):\n",
    "            self.layers.append(\n",
    "                nn.Conv2d(\n",
    "                    in_channels=in_channels,\n",
    "                    out_channels=filters[i],\n",
    "                    kernel_size=kernel_size,\n",
    "                    stride=1,\n",
    "                    padding=1\n",
    "                )\n",
    "            )\n",
    "            self.layers.append(nn.ReLU())\n",
    "            self.layers.append(nn.MaxPool2d(kernel_size=2, stride=2))\n",
    "            in_channels = filters[i]\n",
    "\n",
    "        self.fc = nn.Sequential(\n",
    "            nn.Flatten(),\n",
    "            nn.Linear(filters[-1] * 6 * 6, 256),\n",
    "            nn.ReLU(),\n",
    "            nn.Dropout(0.5),\n",
    "            nn.Linear(256, num_classes)\n",
    "        )\n",
    "\n",
    "    def forward(self, x):\n",
    "        for layer in self.layers:\n",
    "            x = layer(x)\n",
    "        x = self.fc(x)\n",
    "        return x\n",
    "\n",
    "# Define a function to create and train the model\n",
    "def train_model(num_layers, filters, learning_rate, weight_decay, optimizer_name, momentum=None):\n",
    "    # Define the model\n",
    "    model = DynamicCNN(num_layers=num_layers, filters=filters)\n",
    "    device = torch.device(\"cuda\" if torch.cuda.is_available() else \"cpu\")\n",
    "    model = model.to(device)\n",
    "\n",
    "    # Loss function\n",
    "    criterion = nn.CrossEntropyLoss()\n",
    "\n",
    "    # Optimizer\n",
    "    if optimizer_name == \"SGD\":\n",
    "        optimizer = SGD(model.parameters(), lr=learning_rate, momentum=momentum, weight_decay=weight_decay)\n",
    "    elif optimizer_name == \"Adam\":\n",
    "        optimizer = Adam(model.parameters(), lr=learning_rate, weight_decay=weight_decay)\n",
    "    else:\n",
    "        raise ValueError(\"Unsupported optimizer. Choose 'SGD' or 'Adam'.\")\n",
    "\n",
    "    # Training Loop\n",
    "    num_epochs = 10\n",
    "    for epoch in range(num_epochs):\n",
    "        model.train()\n",
    "        running_loss = 0.0\n",
    "        for images, labels in train_loader:\n",
    "            images, labels = images.to(device), labels.to(device)\n",
    "            \n",
    "            # Zero the parameter gradients\n",
    "            optimizer.zero_grad()\n",
    "            \n",
    "            # Forward pass\n",
    "            outputs = model(images)\n",
    "            loss = criterion(outputs, labels)\n",
    "            \n",
    "            # Backward pass and optimization\n",
    "            loss.backward()\n",
    "            optimizer.step()\n",
    "            \n",
    "            running_loss += loss.item()\n",
    "        \n",
    "        print(f\"Epoch [{epoch+1}/{num_epochs}], Loss: {running_loss/len(train_loader):.4f}\")\n",
    "\n",
    "    # Validation loop\n",
    "    model.eval()\n",
    "    val_loss = 0.0\n",
    "    correct = 0\n",
    "    total = 0\n",
    "    with torch.no_grad():\n",
    "        for images, labels in val_loader:\n",
    "            images, labels = images.to(device), labels.to(device)\n",
    "            outputs = model(images)\n",
    "            loss = criterion(outputs, labels)\n",
    "            val_loss += loss.item()\n",
    "            _, predicted = torch.max(outputs, 1)\n",
    "            correct += (predicted == labels).sum().item()\n",
    "            total += labels.size(0)\n",
    "\n",
    "    print(f\"Validation Loss: {val_loss/len(val_loader):.4f}, Accuracy: {100 * correct/total:.2f}%\")\n",
    "\n",
    "    return model\n",
    "\n",
    "# Example usage\n",
    "model = train_model(\n",
    "    num_layers=3,\n",
    "    filters=[32, 64, 128],\n",
    "    learning_rate=0.001,\n",
    "    weight_decay=1e-4,\n",
    "    optimizer_name=\"SGD\",\n",
    "    momentum=0.9\n",
    ")\n"
   ]
  },
  {
   "cell_type": "code",
   "execution_count": 9,
   "id": "6b8fea88",
   "metadata": {},
   "outputs": [
    {
     "name": "stdout",
     "output_type": "stream",
     "text": [
      "Epoch 1/100, Loss: 1.9968, Accuracy: 100.00%\n",
      "The model has overfitted on the two samples.\n"
     ]
    }
   ],
   "source": [
    "transform = transforms.Compose([\n",
    "    transforms.Grayscale(num_output_channels=1),\n",
    "    transforms.Resize((48, 48)),\n",
    "    transforms.ToTensor(),\n",
    "    transforms.Normalize((0.5,), (0.5,))\n",
    "])\n",
    "\n",
    "dataset = datasets.ImageFolder('train', transform=transform)\n",
    "\n",
    "# Select two samples\n",
    "sample_indices = [0, 1]  # Replace with indices of your choice\n",
    "subset = Subset(dataset, sample_indices)\n",
    "loader = DataLoader(subset, batch_size=2, shuffle=True)\n",
    "\n",
    "# Define a simple CNN\n",
    "class SimpleCNN(nn.Module):\n",
    "    def __init__(self, num_classes=7):\n",
    "        super(SimpleCNN, self).__init__()\n",
    "        self.conv1 = nn.Conv2d(1, 16, kernel_size=3, padding=1)\n",
    "        self.conv2 = nn.Conv2d(16, 32, kernel_size=3, padding=1)\n",
    "        self.fc1 = nn.Linear(32 * 12 * 12, 64)\n",
    "        self.fc2 = nn.Linear(64, num_classes)\n",
    "\n",
    "    def forward(self, x):\n",
    "        x = F.relu(self.conv1(x))\n",
    "        x = F.max_pool2d(x, 2)\n",
    "        x = F.relu(self.conv2(x))\n",
    "        x = F.max_pool2d(x, 2)\n",
    "        x = x.view(x.size(0), -1)  # Flatten\n",
    "        x = F.relu(self.fc1(x))\n",
    "        x = self.fc2(x)\n",
    "        return x\n",
    "\n",
    "# Initialize the model, loss, and optimizer\n",
    "model = SimpleCNN(num_classes=7)\n",
    "device = torch.device(\"cuda\" if torch.cuda.is_available() else \"cpu\")\n",
    "model = model.to(device)\n",
    "\n",
    "criterion = nn.CrossEntropyLoss()\n",
    "optimizer = optim.SGD(model.parameters(), lr=0.1, momentum=0.9, weight_decay=0.0)\n",
    "\n",
    "# Training loop\n",
    "epochs = 100  # Train until overfitting\n",
    "for epoch in range(epochs):\n",
    "    model.train()\n",
    "    for images, labels in loader:\n",
    "        images, labels = images.to(device), labels.to(device)\n",
    "\n",
    "        # Forward pass\n",
    "        outputs = model(images)\n",
    "        loss = criterion(outputs, labels)\n",
    "\n",
    "        # Backward pass and optimization\n",
    "        optimizer.zero_grad()\n",
    "        loss.backward()\n",
    "        optimizer.step()\n",
    "\n",
    "    # Check accuracy on the two samples\n",
    "    model.eval()\n",
    "    correct = 0\n",
    "    total = 0\n",
    "    with torch.no_grad():\n",
    "        for images, labels in loader:\n",
    "            images, labels = images.to(device), labels.to(device)\n",
    "            outputs = model(images)\n",
    "            _, predicted = torch.max(outputs, 1)\n",
    "            correct += (predicted == labels).sum().item()\n",
    "            total += labels.size(0)\n",
    "\n",
    "    print(f\"Epoch {epoch+1}/{epochs}, Loss: {loss.item():.4f}, Accuracy: {100 * correct / total:.2f}%\")\n",
    "\n",
    "    # Stop training if the model overfits\n",
    "    if correct == total:\n",
    "        print(\"The model has overfitted on the two samples.\")\n",
    "        break\n"
   ]
  },
  {
   "cell_type": "markdown",
   "id": "e82674d8-2171-489e-b170-09fa02649b37",
   "metadata": {},
   "source": [
    "## Step 3: ClearML base task\n",
    "Now train your network with ClearML by creating a task and connecting the parameters to the task. Copy the plots from ClearML and upload them here."
   ]
  },
  {
   "cell_type": "markdown",
   "id": "0ee6bcd0",
   "metadata": {},
   "source": [
    "#### if you don't have clearml library installed.\n",
    "pip install clearml\n"
   ]
  },
  {
   "cell_type": "code",
   "execution_count": 10,
   "id": "f433cff1-66e6-4060-b5ee-2942c0a08de1",
   "metadata": {},
   "outputs": [
    {
     "name": "stdout",
     "output_type": "stream",
     "text": [
      "Requirement already satisfied: xgboost in c:\\users\\smitp\\anaconda3\\lib\\site-packages (2.1.3)\n",
      "Requirement already satisfied: clearml in c:\\users\\smitp\\anaconda3\\lib\\site-packages (1.16.5)\n",
      "Requirement already satisfied: numpy in c:\\users\\smitp\\anaconda3\\lib\\site-packages (from xgboost) (1.24.3)\n",
      "Requirement already satisfied: scipy in c:\\users\\smitp\\anaconda3\\lib\\site-packages (from xgboost) (1.10.1)\n",
      "Requirement already satisfied: attrs>=18.0 in c:\\users\\smitp\\anaconda3\\lib\\site-packages (from clearml) (23.1.0)\n",
      "Requirement already satisfied: furl>=2.0.0 in c:\\users\\smitp\\anaconda3\\lib\\site-packages (from clearml) (2.1.3)\n",
      "Requirement already satisfied: jsonschema>=2.6.0 in c:\\users\\smitp\\anaconda3\\lib\\site-packages (from clearml) (4.19.2)\n",
      "Requirement already satisfied: pathlib2>=2.3.0 in c:\\users\\smitp\\anaconda3\\lib\\site-packages (from clearml) (2.3.7.post1)\n",
      "Requirement already satisfied: Pillow>=4.1.1 in c:\\users\\smitp\\anaconda3\\lib\\site-packages (from clearml) (10.2.0)\n",
      "Requirement already satisfied: psutil>=3.4.2 in c:\\users\\smitp\\anaconda3\\lib\\site-packages (from clearml) (5.9.0)\n",
      "Requirement already satisfied: pyparsing>=2.0.3 in c:\\users\\smitp\\anaconda3\\lib\\site-packages (from clearml) (3.0.9)\n",
      "Requirement already satisfied: python-dateutil>=2.6.1 in c:\\users\\smitp\\anaconda3\\lib\\site-packages (from clearml) (2.8.2)\n",
      "Requirement already satisfied: PyYAML>=3.12 in c:\\users\\smitp\\anaconda3\\lib\\site-packages (from clearml) (6.0)\n",
      "Requirement already satisfied: requests>=2.20.0 in c:\\users\\smitp\\anaconda3\\lib\\site-packages (from clearml) (2.31.0)\n",
      "Requirement already satisfied: six>=1.16.0 in c:\\users\\smitp\\anaconda3\\lib\\site-packages (from clearml) (1.16.0)\n",
      "Requirement already satisfied: urllib3>=1.21.1 in c:\\users\\smitp\\anaconda3\\lib\\site-packages (from clearml) (1.26.16)\n",
      "Requirement already satisfied: pyjwt<2.9.0,>=2.4.0 in c:\\users\\smitp\\anaconda3\\lib\\site-packages (from clearml) (2.4.0)\n",
      "Requirement already satisfied: referencing<0.40 in c:\\users\\smitp\\anaconda3\\lib\\site-packages (from clearml) (0.31.0)\n",
      "Requirement already satisfied: orderedmultidict>=1.0.1 in c:\\users\\smitp\\anaconda3\\lib\\site-packages (from furl>=2.0.0->clearml) (1.0.1)\n",
      "Requirement already satisfied: jsonschema-specifications>=2023.03.6 in c:\\users\\smitp\\anaconda3\\lib\\site-packages (from jsonschema>=2.6.0->clearml) (2023.11.1)\n",
      "Requirement already satisfied: rpds-py>=0.7.1 in c:\\users\\smitp\\anaconda3\\lib\\site-packages (from jsonschema>=2.6.0->clearml) (0.10.6)\n",
      "Requirement already satisfied: charset-normalizer<4,>=2 in c:\\users\\smitp\\anaconda3\\lib\\site-packages (from requests>=2.20.0->clearml) (2.0.4)\n",
      "Requirement already satisfied: idna<4,>=2.5 in c:\\users\\smitp\\anaconda3\\lib\\site-packages (from requests>=2.20.0->clearml) (3.4)\n",
      "Requirement already satisfied: certifi>=2017.4.17 in c:\\users\\smitp\\anaconda3\\lib\\site-packages (from requests>=2.20.0->clearml) (2024.8.30)\n",
      "Note: you may need to restart the kernel to use updated packages.\n"
     ]
    }
   ],
   "source": [
    "%pip install --upgrade xgboost clearml\n",
    "import clearml\n",
    "clearml.browser_login()"
   ]
  },
  {
   "cell_type": "code",
   "execution_count": 11,
   "id": "2e1b1475",
   "metadata": {},
   "outputs": [],
   "source": [
    "from clearml import Task"
   ]
  },
  {
   "cell_type": "code",
   "execution_count": 17,
   "id": "5d66daf9",
   "metadata": {},
   "outputs": [
    {
     "name": "stderr",
     "output_type": "stream",
     "text": [
      "Password protected Jupyter Notebook server was found! Add `sdk.development.jupyter_server_password=<jupyter_password>` to ~/clearml.conf\n"
     ]
    },
    {
     "name": "stdout",
     "output_type": "stream",
     "text": [
      "ClearML Task: overwriting (reusing) task id=61a90356628743568f698278ce8472b5\n",
      "ClearML results page: https://app.clear.ml/projects/3962a2d2a8fe4bc6826fafb8c0f80a5d/experiments/61a90356628743568f698278ce8472b5/output/log\n",
      "Epoch 1/100, Loss: 1.8703, Accuracy: 100.00%\n",
      "The model has overfitted on the two samples.\n"
     ]
    }
   ],
   "source": [
    "from clearml import Task\n",
    "\n",
    "# Close any active task\n",
    "if Task.current_task():\n",
    "    Task.current_task().close()\n",
    "\n",
    "# Initialize ClearML task\n",
    "task = Task.init(project_name=\"Emotion Detection\", task_name=\"Overfitting on Two Samples\")\n",
    "\n",
    "# Hyperparameters\n",
    "hyperparams = {\n",
    "    \"learning_rate\": 0.1,\n",
    "    \"momentum\": 0.9,\n",
    "    \"weight_decay\": 0.0,\n",
    "    \"num_epochs\": 100,\n",
    "    \"batch_size\": 2\n",
    "}\n",
    "task.connect(hyperparams)\n",
    "\n",
    "# Load and preprocess dataset\n",
    "transform = transforms.Compose([\n",
    "    transforms.Grayscale(num_output_channels=1),\n",
    "    transforms.Resize((48, 48)),\n",
    "    transforms.ToTensor(),\n",
    "    transforms.Normalize((0.5,), (0.5,))\n",
    "])\n",
    "\n",
    "dataset = datasets.ImageFolder('train', transform=transform)\n",
    "sample_indices = [0, 1]  # Replace with indices of your choice\n",
    "subset = Subset(dataset, sample_indices)\n",
    "loader = DataLoader(subset, batch_size=hyperparams[\"batch_size\"], shuffle=True)\n",
    "\n",
    "# Define a simple CNN\n",
    "class SimpleCNN(nn.Module):\n",
    "    def __init__(self, num_classes=7):\n",
    "        super(SimpleCNN, self).__init__()\n",
    "        self.conv1 = nn.Conv2d(1, 16, kernel_size=3, padding=1)\n",
    "        self.conv2 = nn.Conv2d(16, 32, kernel_size=3, padding=1)\n",
    "        self.fc1 = nn.Linear(32 * 12 * 12, 64)\n",
    "        self.fc2 = nn.Linear(64, num_classes)\n",
    "\n",
    "    def forward(self, x):\n",
    "        x = F.relu(self.conv1(x))\n",
    "        x = F.max_pool2d(x, 2)\n",
    "        x = F.relu(self.conv2(x))\n",
    "        x = F.max_pool2d(x, 2)\n",
    "        x = x.view(x.size(0), -1)  # Flatten\n",
    "        x = F.relu(self.fc1(x))\n",
    "        x = self.fc2(x)\n",
    "        return x\n",
    "\n",
    "# Initialize the model, loss, and optimizer\n",
    "model = SimpleCNN(num_classes=7)\n",
    "device = torch.device(\"cuda\" if torch.cuda.is_available() else \"cpu\")\n",
    "model = model.to(device)\n",
    "\n",
    "criterion = nn.CrossEntropyLoss()\n",
    "optimizer = optim.SGD(\n",
    "    model.parameters(),\n",
    "    lr=hyperparams[\"learning_rate\"],\n",
    "    momentum=hyperparams[\"momentum\"],\n",
    "    weight_decay=hyperparams[\"weight_decay\"]\n",
    ")\n",
    "\n",
    "# Training loop\n",
    "for epoch in range(hyperparams[\"num_epochs\"]):\n",
    "    model.train()\n",
    "    running_loss = 0.0\n",
    "    correct = 0\n",
    "    total = 0\n",
    "\n",
    "    for images, labels in loader:\n",
    "        images, labels = images.to(device), labels.to(device)\n",
    "\n",
    "        # Forward pass\n",
    "        outputs = model(images)\n",
    "        loss = criterion(outputs, labels)\n",
    "\n",
    "        # Backward pass and optimization\n",
    "        optimizer.zero_grad()\n",
    "        loss.backward()\n",
    "        optimizer.step()\n",
    "\n",
    "        # Track metrics\n",
    "        running_loss += loss.item()\n",
    "        _, predicted = torch.max(outputs, 1)\n",
    "        correct += (predicted == labels).sum().item()\n",
    "        total += labels.size(0)\n",
    "\n",
    "    # Log metrics to ClearML\n",
    "    task.get_logger().report_scalar(\"Loss\", \"Train\", running_loss / len(loader), epoch)\n",
    "    task.get_logger().report_scalar(\"Accuracy\", \"Train\", 100 * correct / total, epoch)\n",
    "\n",
    "    print(f\"Epoch {epoch+1}/{hyperparams['num_epochs']}, Loss: {running_loss:.4f}, Accuracy: {100 * correct / total:.2f}%\")\n",
    "\n",
    "    # Stop training if the model overfits\n",
    "    if correct == total:\n",
    "        print(\"The model has overfitted on the two samples.\")\n",
    "        break\n",
    "\n",
    "# Finalize task\n",
    "task.close()\n"
   ]
  },
  {
   "cell_type": "code",
   "execution_count": null,
   "id": "af2d1204",
   "metadata": {},
   "outputs": [],
   "source": []
  }
 ],
 "metadata": {
  "kernelspec": {
   "display_name": "Python 3 (ipykernel)",
   "language": "python",
   "name": "python3"
  },
  "language_info": {
   "codemirror_mode": {
    "name": "ipython",
    "version": 3
   },
   "file_extension": ".py",
   "mimetype": "text/x-python",
   "name": "python",
   "nbconvert_exporter": "python",
   "pygments_lexer": "ipython3",
   "version": "3.11.4"
  },
  "varInspector": {
   "cols": {
    "lenName": 16,
    "lenType": 16,
    "lenVar": 40
   },
   "kernels_config": {
    "python": {
     "delete_cmd_postfix": "",
     "delete_cmd_prefix": "del ",
     "library": "var_list.py",
     "varRefreshCmd": "print(var_dic_list())"
    },
    "r": {
     "delete_cmd_postfix": ") ",
     "delete_cmd_prefix": "rm(",
     "library": "var_list.r",
     "varRefreshCmd": "cat(var_dic_list()) "
    }
   },
   "types_to_exclude": [
    "module",
    "function",
    "builtin_function_or_method",
    "instance",
    "_Feature"
   ],
   "window_display": false
  }
 },
 "nbformat": 4,
 "nbformat_minor": 5
}
