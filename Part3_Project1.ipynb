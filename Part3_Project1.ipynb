{
 "cells": [
  {
   "cell_type": "markdown",
   "id": "a153699b-9ee8-46c6-b8c8-3c0f7cf3f092",
   "metadata": {},
   "source": [
    "#### Instructions:  \n",
    "1. Libraries allowed: **Python basic libraries, numpy, pandas, scikit-learn (only for data processing), pytorch, and ClearML.**\n",
    "2. Show all outputs.\n",
    "3. Submit jupyter notebook and a pdf export of the notebook. Check canvas for detail instructions for the report. \n",
    "4. Below are the questions/steps that you need to answer. Add as many cells as needed. "
   ]
  },
  {
   "cell_type": "markdown",
   "id": "4ee51aae-3b7b-445a-a017-cb81f62a6960",
   "metadata": {},
   "source": [
    "## Task 2: Finetuning a pretrained NN\n",
    "Do transfer learning with ResNet18 and compare peforamnce with the hyperparamter-tuned network."
   ]
  },
  {
   "cell_type": "code",
   "execution_count": 1,
   "id": "8c116f9c-2add-442e-ab24-c67120d9bb8d",
   "metadata": {},
   "outputs": [
    {
     "name": "stdout",
     "output_type": "stream",
     "text": [
      "ClearML Task: overwriting (reusing) task id=36b4accb145e481da51ed984aba0d42a\n",
      "2024-11-26 12:52:25,415 - clearml.Repository Detection - WARNING - Password protected Jupyter Notebook server was found! Add `sdk.development.jupyter_server_password=<jupyter_password>` to ~/clearml.conf\n",
      "2024-11-26 12:52:25,455 - clearml.Task - INFO - Storing jupyter notebook directly as code\n",
      "ClearML results page: https://app.clear.ml/projects/3cacee62609b4c3db95166a6febc8b12/experiments/36b4accb145e481da51ed984aba0d42a/output/log\n"
     ]
    }
   ],
   "source": [
    "# Import libraries\n",
    "import torch\n",
    "import torch.nn as nn\n",
    "import torch.optim as optim\n",
    "from torch.utils.data import DataLoader, random_split\n",
    "from torchvision import datasets, transforms, models\n",
    "from sklearn.metrics import accuracy_score, precision_score, recall_score, f1_score\n",
    "from clearml import Task\n",
    "\n",
    "# Initialize ClearML Task\n",
    "task = Task.init(project_name=\"Transfer Learning\", task_name=\"Fine-tuning ResNet18\")\n",
    "\n",
    "# Define transformations\n",
    "transform = transforms.Compose([\n",
    "    transforms.Grayscale(num_output_channels=3),  # Convert to 3 channels for ResNet\n",
    "    transforms.Resize((224, 224)),               # ResNet18 expects 224x224 input\n",
    "    transforms.ToTensor(),\n",
    "    transforms.Normalize([0.5, 0.5, 0.5], [0.5, 0.5, 0.5])\n",
    "])"
   ]
  },
  {
   "cell_type": "code",
   "execution_count": 2,
   "id": "c9ca7830",
   "metadata": {},
   "outputs": [],
   "source": [
    "# Load dataset\n",
    "dataset = datasets.ImageFolder('train', transform=transform)\n",
    "\n",
    "# Split into train and validation sets\n",
    "train_size = int(0.8 * len(dataset))\n",
    "val_size = len(dataset) - train_size\n",
    "train_subset, val_subset = random_split(dataset, [train_size, val_size])\n",
    "\n",
    "train_loader = DataLoader(train_subset, batch_size=32, shuffle=True)\n",
    "val_loader = DataLoader(val_subset, batch_size=32, shuffle=False)"
   ]
  },
  {
   "cell_type": "code",
   "execution_count": 3,
   "id": "99b1a8dc",
   "metadata": {},
   "outputs": [
    {
     "name": "stderr",
     "output_type": "stream",
     "text": [
      "C:\\Users\\smitp\\anaconda3\\Lib\\site-packages\\torchvision\\models\\_utils.py:208: UserWarning: The parameter 'pretrained' is deprecated since 0.13 and may be removed in the future, please use 'weights' instead.\n",
      "  warnings.warn(\n",
      "C:\\Users\\smitp\\anaconda3\\Lib\\site-packages\\torchvision\\models\\_utils.py:223: UserWarning: Arguments other than a weight enum or `None` for 'weights' are deprecated since 0.13 and may be removed in the future. The current behavior is equivalent to passing `weights=ResNet18_Weights.IMAGENET1K_V1`. You can also use `weights=ResNet18_Weights.DEFAULT` to get the most up-to-date weights.\n",
      "  warnings.warn(msg)\n"
     ]
    },
    {
     "name": "stdout",
     "output_type": "stream",
     "text": [
      "2024-11-26 12:52:30,626 - clearml.model - INFO - Selected model id: 16743848619946ebb16f4a7b3cd6b877\n"
     ]
    }
   ],
   "source": [
    "# Load pretrained ResNet18\n",
    "resnet18 = models.resnet18(pretrained=True)\n",
    "\n",
    "# Modify the final fully connected layer for the specific task\n",
    "num_classes = 7  # Replace with the number of classes in your dataset\n",
    "resnet18.fc = nn.Linear(resnet18.fc.in_features, num_classes)\n",
    "\n",
    "# Transfer model to GPU if available\n",
    "device = torch.device(\"cuda\" if torch.cuda.is_available() else \"cpu\")\n",
    "resnet18 = resnet18.to(device)\n",
    "\n",
    "# Define loss function and optimizer\n",
    "criterion = nn.CrossEntropyLoss()\n",
    "optimizer = optim.SGD(resnet18.parameters(), lr=0.01, momentum=0.9, weight_decay=0.001)\n"
   ]
  },
  {
   "cell_type": "code",
   "execution_count": 4,
   "id": "f1a0a41c",
   "metadata": {},
   "outputs": [
    {
     "name": "stderr",
     "output_type": "stream",
     "text": [
      "C:\\Users\\smitp\\anaconda3\\Lib\\site-packages\\torchvision\\models\\_utils.py:208: UserWarning: The parameter 'pretrained' is deprecated since 0.13 and may be removed in the future, please use 'weights' instead.\n",
      "  warnings.warn(\n",
      "C:\\Users\\smitp\\anaconda3\\Lib\\site-packages\\torchvision\\models\\_utils.py:223: UserWarning: Arguments other than a weight enum or `None` for 'weights' are deprecated since 0.13 and may be removed in the future. The current behavior is equivalent to passing `weights=ResNet18_Weights.IMAGENET1K_V1`. You can also use `weights=ResNet18_Weights.DEFAULT` to get the most up-to-date weights.\n",
      "  warnings.warn(msg)\n"
     ]
    },
    {
     "name": "stdout",
     "output_type": "stream",
     "text": [
      "2024-11-26 12:52:32,027 - clearml.model - WARNING - Connecting multiple input models with the same name: `resnet18-f37072fd`. This might result in the wrong model being used when executing remotely\n"
     ]
    }
   ],
   "source": [
    "from torchvision.models import resnet18\n",
    "\n",
    "# Initialize ResNet18\n",
    "resnet18 = resnet18(pretrained=True)  # Use pretrained weights\n",
    "resnet18.fc = nn.Linear(resnet18.fc.in_features, 7)  # Modify the final layer for 7 classes\n",
    "resnet18 = resnet18.to(device)  # Move to GPU or CPU\n",
    "# Define criterion and optimizer\n",
    "criterion = nn.CrossEntropyLoss()\n",
    "optimizer = optim.SGD(resnet18.parameters(), lr=0.1, momentum=0.8)\n",
    "\n"
   ]
  },
  {
   "cell_type": "code",
   "execution_count": 5,
   "id": "f20e2ba1",
   "metadata": {},
   "outputs": [],
   "source": [
    "# Training function\n",
    "def train_model(model, train_loader, val_loader, criterion, optimizer, num_epochs=10):\n",
    "    for epoch in range(num_epochs):\n",
    "        model.train()  # Set the model to training mode\n",
    "        running_loss = 0.0\n",
    "\n",
    "        # Training loop\n",
    "        for images, labels in train_loader:\n",
    "            images, labels = images.to(device), labels.to(device)\n",
    "\n",
    "            # Forward pass\n",
    "            optimizer.zero_grad()\n",
    "            outputs = model(images)\n",
    "            loss = criterion(outputs, labels)\n",
    "            loss.backward()\n",
    "            optimizer.step()\n",
    "\n",
    "            running_loss += loss.item()\n",
    "\n",
    "        # Validation loop\n",
    "        model.eval()  # Set the model to evaluation mode\n",
    "        val_loss = 0.0\n",
    "        y_true, y_pred = [], []\n",
    "\n",
    "        with torch.no_grad():\n",
    "            for images, labels in val_loader:\n",
    "                images, labels = images.to(device), labels.to(device)\n",
    "                outputs = model(images)\n",
    "                loss = criterion(outputs, labels)\n",
    "                val_loss += loss.item()\n",
    "\n",
    "                _, predicted = torch.max(outputs, 1)\n",
    "                y_true.extend(labels.cpu().numpy())\n",
    "                y_pred.extend(predicted.cpu().numpy())\n",
    "\n",
    "        # Metrics\n",
    "        accuracy = accuracy_score(y_true, y_pred)\n",
    "        print(f\"Epoch {epoch+1}/{num_epochs}, Loss: {running_loss/len(train_loader):.4f}, \"\n",
    "              f\"Val Loss: {val_loss/len(val_loader):.4f}, Val Accuracy: {accuracy:.4f}\")\n",
    "\n",
    "    return model"
   ]
  },
  {
   "cell_type": "code",
   "execution_count": 6,
   "id": "c5057f2a",
   "metadata": {},
   "outputs": [
    {
     "name": "stdout",
     "output_type": "stream",
     "text": [
      "ClearML Monitor: Could not detect iteration reporting, falling back to iterations as seconds-from-start\n",
      "Epoch 1/5, Loss: 2.2077, Val Loss: 1.9026, Val Accuracy: 0.2464\n",
      "Epoch 2/5, Loss: 1.8047, Val Loss: 1.7878, Val Accuracy: 0.2489\n",
      "Epoch 3/5, Loss: 1.7872, Val Loss: 1.7714, Val Accuracy: 0.2619\n",
      "Epoch 4/5, Loss: 1.7729, Val Loss: 1.7595, Val Accuracy: 0.2706\n",
      "Epoch 5/5, Loss: 1.7257, Val Loss: 1.6554, Val Accuracy: 0.3384\n"
     ]
    }
   ],
   "source": [
    "# Train and validate ResNet18\n",
    "trained_resnet18 = train_model(resnet18, train_loader, val_loader, criterion, optimizer, num_epochs=5)\n"
   ]
  },
  {
   "cell_type": "code",
   "execution_count": 8,
   "id": "780bcd96",
   "metadata": {},
   "outputs": [],
   "source": [
    "# Load the saved trained model\n",
    "from torchvision.models import resnet18\n",
    "\n",
    "trained_resnet18 = resnet18(weights=\"IMAGENET1K_V1\")  # Use pretrained weights\n",
    "trained_resnet18.fc = nn.Linear(trained_resnet18.fc.in_features, 7)  # Modify for 7 classes\n",
    "trained_resnet18 = trained_resnet18.to(device)\n",
    "\n",
    "\n",
    "# Load test dataset\n",
    "test_dataset = datasets.ImageFolder('test', transform=transform)\n",
    "test_loader = DataLoader(test_dataset, batch_size=32, shuffle=False)"
   ]
  },
  {
   "cell_type": "code",
   "execution_count": 9,
   "id": "9bf8f430",
   "metadata": {},
   "outputs": [],
   "source": [
    "# Evaluation function\n",
    "def evaluate_model(model, test_loader):\n",
    "    model.eval()\n",
    "    y_true, y_pred = [], []\n",
    "\n",
    "    with torch.no_grad():\n",
    "        for images, labels in test_loader:\n",
    "            images, labels = images.to(device), labels.to(device)\n",
    "            outputs = model(images)\n",
    "            _, predicted = torch.max(outputs, 1)\n",
    "            y_true.extend(labels.cpu().numpy())\n",
    "            y_pred.extend(predicted.cpu().numpy())\n",
    "\n",
    "    # Compute metrics\n",
    "    accuracy = accuracy_score(y_true, y_pred)\n",
    "    precision = precision_score(y_true, y_pred, average='macro')\n",
    "    recall = recall_score(y_true, y_pred, average='macro')\n",
    "    f1 = f1_score(y_true, y_pred, average='macro')\n",
    "\n",
    "    print(f\"Accuracy: {accuracy:.4f}\")\n",
    "    print(f\"Precision: {precision:.4f}\")\n",
    "    print(f\"Recall: {recall:.4f}\")\n",
    "    print(f\"F1 Score: {f1:.4f}\")"
   ]
  },
  {
   "cell_type": "code",
   "execution_count": 10,
   "id": "114687d7",
   "metadata": {},
   "outputs": [
    {
     "name": "stdout",
     "output_type": "stream",
     "text": [
      "Accuracy: 0.0375\n",
      "Precision: 0.0932\n",
      "Recall: 0.1404\n",
      "F1 Score: 0.0360\n"
     ]
    },
    {
     "name": "stderr",
     "output_type": "stream",
     "text": [
      "C:\\Users\\smitp\\anaconda3\\Lib\\site-packages\\sklearn\\metrics\\_classification.py:1471: UndefinedMetricWarning: Precision is ill-defined and being set to 0.0 in labels with no predicted samples. Use `zero_division` parameter to control this behavior.\n",
      "  _warn_prf(average, modifier, msg_start, len(result))\n"
     ]
    }
   ],
   "source": [
    "# Evaluate ResNet18\n",
    "evaluate_model(trained_resnet18, test_loader)"
   ]
  },
  {
   "cell_type": "markdown",
   "id": "d0fe860a-1216-41c7-936c-681f1bceb516",
   "metadata": {},
   "source": [
    "### Discussion\n",
    "Provide a comparative analysis."
   ]
  },
  {
   "cell_type": "markdown",
   "id": "c34e72d7",
   "metadata": {},
   "source": [
    "### 1. Model Summary\n",
    "#### Custom CNN:\n",
    "\n",
    "A shallow CNN with 2 convolutional layers and 128 fully connected units.\n",
    "\n",
    "Designed and trained from scratch specifically for the emotion detection task.\n",
    "#### Fine-tuned ResNet18:\n",
    "\n",
    "Pretrained ResNet18 modified for 7-class classification.\n",
    "\n",
    "Transfer learning applied, leveraging ImageNet-pretrained weights.\n",
    "### 2. Training Metrics\n",
    "#### Custom CNN:\n",
    "\n",
    "Final training loss: 1.2913.\n",
    "Final validation loss: 1.3199.\n",
    "Validation accuracy: 49.44%.\n",
    "#### Fine-tuned ResNet18:\n",
    "\n",
    "Final training loss: 1.7257.\n",
    "Final validation loss: 1.6554.\n",
    "Validation accuracy: 33.84%.\n",
    "#### Observation:\n",
    "\n",
    "The Custom CNN outperformed ResNet18 in both training and validation, achieving better accuracy and lower losses.\n",
    "### 3. Test Performance\n",
    "#### Custom CNN:\n",
    "\n",
    "Accuracy: 49.26%.\n",
    "Precision: 48.71%.\n",
    "Recall: 41.50%.\n",
    "F1 Score: 40.56%.\n",
    "#### Fine-tuned ResNet18:\n",
    "\n",
    "Accuracy: 3.75%.\n",
    "Precision: 9.32%.\n",
    "Recall: 14.04%.\n",
    "F1 Score: 3.60%.\n",
    "#### Observation:\n",
    "\n",
    "Custom CNN achieved better test performance across all metrics.\n",
    "\n",
    "ResNet18 struggled, showing extremely low accuracy and undefined precision for some classes.\n",
    "### 4. Key Observations\n",
    "#### Custom CNN Strengths:\n",
    "\n",
    "Consistently performed better across validation and test datasets.\n",
    "\n",
    "Tailored architecture better suited for the dataset and task.\n",
    "#### Fine-tuned ResNet18 Issues:\n",
    "\n",
    "Mismatch between pretrained weights (ImageNet) and the dataset may have contributed to poor performance.\n",
    "\n",
    "Insufficient fine-tuning due to limited epochs and potential overfitting to the training data.\n",
    "\n",
    "### Conclusion\n",
    "Custom CNN showed significantly better performance, making it more suitable for this task.\n",
    "\n",
    "Fine-tuned ResNet18 underperformed, but with additional tuning and adjustments, it has potential for improvement due to its capacity and pretrained knowledge."
   ]
  }
 ],
 "metadata": {
  "kernelspec": {
   "display_name": "Python 3 (ipykernel)",
   "language": "python",
   "name": "python3"
  },
  "language_info": {
   "codemirror_mode": {
    "name": "ipython",
    "version": 3
   },
   "file_extension": ".py",
   "mimetype": "text/x-python",
   "name": "python",
   "nbconvert_exporter": "python",
   "pygments_lexer": "ipython3",
   "version": "3.11.4"
  },
  "varInspector": {
   "cols": {
    "lenName": 16,
    "lenType": 16,
    "lenVar": 40
   },
   "kernels_config": {
    "python": {
     "delete_cmd_postfix": "",
     "delete_cmd_prefix": "del ",
     "library": "var_list.py",
     "varRefreshCmd": "print(var_dic_list())"
    },
    "r": {
     "delete_cmd_postfix": ") ",
     "delete_cmd_prefix": "rm(",
     "library": "var_list.r",
     "varRefreshCmd": "cat(var_dic_list()) "
    }
   },
   "types_to_exclude": [
    "module",
    "function",
    "builtin_function_or_method",
    "instance",
    "_Feature"
   ],
   "window_display": false
  }
 },
 "nbformat": 4,
 "nbformat_minor": 5
}
